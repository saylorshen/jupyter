{
 "cells": [
  {
   "cell_type": "markdown",
   "id": "e274dd6c-d73c-410e-b620-471cef4c10b7",
   "metadata": {},
   "source": [
    "# Data Science Tools and Ecosystem"
   ]
  },
  {
   "cell_type": "markdown",
   "id": "58a98401-c234-49af-add9-19ecd3a3fc2b",
   "metadata": {},
   "source": [
    "In this notebook, Data Science Tools and Ecosystem are summarized."
   ]
  },
  {
   "cell_type": "markdown",
   "id": "35a54f4f-84f9-422f-bf0e-1c015dc418ee",
   "metadata": {},
   "source": [
    "Some of the popular languages that Data Scientists use are:\n",
    "1. R\n",
    "2. Python\n",
    "3. SQl"
   ]
  },
  {
   "cell_type": "markdown",
   "id": "31376e03-3818-4fe7-8c5b-c685eff04e23",
   "metadata": {},
   "source": [
    "Some of the commonly used libraries used by Data Scientists include:\n",
    "1. Pandas\n",
    "2. Matplotlib\n",
    "3. TensorFlow\n",
    "4. Keras"
   ]
  },
  {
   "cell_type": "markdown",
   "id": "a437f748-c485-4922-a6db-e6a02ecb4f1d",
   "metadata": {},
   "source": [
    "# Data Science Tools\n",
    "1. Jupyter Notebook\n",
    "2. Rstudio\n",
    "3. Github\n",
    "4. Apache Spark"
   ]
  },
  {
   "cell_type": "markdown",
   "id": "421c1469-4f51-43dd-ac23-4c9dfedd23b3",
   "metadata": {},
   "source": [
    "### Below are a few examples of evaluating arithmetic expressions in Python"
   ]
  },
  {
   "cell_type": "code",
   "execution_count": 3,
   "id": "001c1880-587f-4589-98ed-ec4436d66cc7",
   "metadata": {},
   "outputs": [
    {
     "data": {
      "text/plain": [
       "17"
      ]
     },
     "execution_count": 3,
     "metadata": {},
     "output_type": "execute_result"
    }
   ],
   "source": [
    "# This a simple arithmetic expression to mutiply then add integers\n",
    "(3*4)+5"
   ]
  },
  {
   "cell_type": "code",
   "execution_count": 5,
   "id": "af132d00-5a4e-4f8c-9ac9-7e301c7cccb0",
   "metadata": {},
   "outputs": [
    {
     "name": "stdout",
     "output_type": "stream",
     "text": [
      "3.3333333333333335\n"
     ]
    }
   ],
   "source": [
    "# This will convert 200 minutes to hours by diving by 60\n",
    "mins = 200\n",
    "hours = mins/60\n",
    "print(hours)"
   ]
  },
  {
   "cell_type": "markdown",
   "id": "192eccf7-132e-4e71-83be-d9ec269e7091",
   "metadata": {},
   "source": [
    "### **Objectives**\n",
    "- Describe the components of a Data Scientist's toolkit and list various tool categories.\n",
    "- List examples of open-source tools used in data science.\n",
    "- Describe the relevant features of open-source tools."
   ]
  },
  {
   "cell_type": "markdown",
   "id": "7eb3f0e2-a773-47fb-bddd-49b579f1a505",
   "metadata": {},
   "source": [
    "## Author\n",
    "JUAN SHEN"
   ]
  },
  {
   "cell_type": "code",
   "execution_count": null,
   "id": "5f4fc4a9-1fe4-4bec-b334-1d332e29c57a",
   "metadata": {},
   "outputs": [],
   "source": []
  }
 ],
 "metadata": {
  "kernelspec": {
   "display_name": "Python 3 (ipykernel)",
   "language": "python",
   "name": "python3"
  },
  "language_info": {
   "codemirror_mode": {
    "name": "ipython",
    "version": 3
   },
   "file_extension": ".py",
   "mimetype": "text/x-python",
   "name": "python",
   "nbconvert_exporter": "python",
   "pygments_lexer": "ipython3",
   "version": "3.11.9"
  }
 },
 "nbformat": 4,
 "nbformat_minor": 5
}
